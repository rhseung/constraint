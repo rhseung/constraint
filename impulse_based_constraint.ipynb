{
 "cells": [
  {
   "cell_type": "code",
   "execution_count": 76,
   "id": "initial_id",
   "metadata": {
    "ExecuteTime": {
     "end_time": "2024-07-04T09:00:09.071717Z",
     "start_time": "2024-07-04T09:00:09.068275Z"
    },
    "collapsed": true
   },
   "outputs": [],
   "source": [
    "import numpy as np\n",
    "import matplotlib.pyplot as plt\n",
    "from numpy.linalg import inv"
   ]
  },
  {
   "cell_type": "code",
   "execution_count": 77,
   "id": "f6f059591755156c",
   "metadata": {
    "ExecuteTime": {
     "end_time": "2024-07-04T09:00:09.085145Z",
     "start_time": "2024-07-04T09:00:09.079342Z"
    }
   },
   "outputs": [
    {
     "data": {
      "text/plain": [
       "array([ 0.        , -4.        ,  1.04719755])"
      ]
     },
     "execution_count": 77,
     "metadata": {},
     "output_type": "execute_result"
    }
   ],
   "source": [
    "p = np.array([0, -4])\n",
    "theta = np.pi / 3\n",
    "\n",
    "q = np.array([*p, theta])\n",
    "\n",
    "q"
   ]
  },
  {
   "cell_type": "code",
   "execution_count": 78,
   "id": "f9e18bae5228a63e",
   "metadata": {
    "ExecuteTime": {
     "end_time": "2024-07-04T09:00:09.093303Z",
     "start_time": "2024-07-04T09:00:09.086515Z"
    }
   },
   "outputs": [
    {
     "data": {
      "text/plain": [
       "array([[3., 0., 0.],\n",
       "       [0., 3., 0.],\n",
       "       [0., 0., 6.]])"
      ]
     },
     "execution_count": 78,
     "metadata": {},
     "output_type": "execute_result"
    }
   ],
   "source": [
    "m = 3\n",
    "r = 2\n",
    "I = 0.5 * m * r**2\n",
    "\n",
    "M = np.diag((m, m, I))\n",
    "\n",
    "M"
   ]
  },
  {
   "cell_type": "code",
   "execution_count": 79,
   "id": "9fcb582d9ba94c9b",
   "metadata": {
    "ExecuteTime": {
     "end_time": "2024-07-04T09:00:09.103860Z",
     "start_time": "2024-07-04T09:00:09.097297Z"
    }
   },
   "outputs": [
    {
     "data": {
      "text/plain": [
       "array([0., 0., 0.])"
      ]
     },
     "execution_count": 79,
     "metadata": {},
     "output_type": "execute_result"
    }
   ],
   "source": [
    "g = np.array([0.0, 0.0])\n",
    "f = m*g\n",
    "tau = 0\n",
    "\n",
    "F = np.array([*f, tau])\n",
    "\n",
    "F"
   ]
  },
  {
   "cell_type": "code",
   "execution_count": 80,
   "id": "7e25d9ce9f267dfe",
   "metadata": {
    "ExecuteTime": {
     "end_time": "2024-07-04T09:00:09.164513Z",
     "start_time": "2024-07-04T09:00:09.159993Z"
    }
   },
   "outputs": [],
   "source": [
    "L = 5\n",
    "\n",
    "def C(q):\n",
    "    x, y, theta = q\n",
    "    return x**2 + y**2 - L**2\n",
    "\n",
    "def J(q, q_dot):\n",
    "    x, y, theta = q\n",
    "    vx, vy, omega = q_dot\n",
    "    return np.array([2*x*vx, 2*y*vy, 0])"
   ]
  },
  {
   "cell_type": "code",
   "execution_count": 81,
   "id": "8b5f9d10f750ac9b",
   "metadata": {
    "ExecuteTime": {
     "end_time": "2024-07-04T09:00:09.181500Z",
     "start_time": "2024-07-04T09:00:09.177949Z"
    }
   },
   "outputs": [],
   "source": [
    "dt = 0.1\n",
    "b = 0\n",
    "\n",
    "def lamb(q, q_dot):\n",
    "    c = C(q)\n",
    "    j = J(q, q_dot)\n",
    "    \n",
    "    lhs = j @ inv(M) @ j.T\n",
    "    rhs = -(j @ (q_dot + inv(M) @ F * dt) + b)\n",
    "    \n",
    "    return rhs / lhs"
   ]
  },
  {
   "cell_type": "code",
   "execution_count": 82,
   "id": "c42b562b1c692511",
   "metadata": {
    "ExecuteTime": {
     "end_time": "2024-07-04T09:00:09.194006Z",
     "start_time": "2024-07-04T09:00:09.190220Z"
    }
   },
   "outputs": [],
   "source": [
    "def P_c(q, q_dot):\n",
    "    j = J(q, q_dot)\n",
    "    lambda_ = lamb(q, q_dot)\n",
    "    \n",
    "    return j.T * lambda_"
   ]
  },
  {
   "cell_type": "code",
   "execution_count": 83,
   "id": "7a32d437578b334",
   "metadata": {
    "ExecuteTime": {
     "end_time": "2024-07-04T09:00:09.201959Z",
     "start_time": "2024-07-04T09:00:09.194520Z"
    }
   },
   "outputs": [
    {
     "data": {
      "text/plain": [
       "array([0.        , 1.        , 1.57079633])"
      ]
     },
     "execution_count": 83,
     "metadata": {},
     "output_type": "execute_result"
    }
   ],
   "source": [
    "p_dot = np.array([0, 1])\n",
    "omega = np.pi / 2\n",
    "q_dot = np.array([*p_dot, omega])\n",
    "\n",
    "q_dot"
   ]
  },
  {
   "cell_type": "code",
   "execution_count": 84,
   "id": "fc49f581",
   "metadata": {},
   "outputs": [
    {
     "name": "stdout",
     "output_type": "stream",
     "text": [
      "q=array([ 0.        , -4.        ,  1.04719755])\n",
      "q_dot=array([0.        , 1.        , 1.57079633])\n",
      "c=np.float64(-9.0)\n",
      "j=array([ 0., -8.,  0.])\n",
      "lambda_=np.float64(0.375)\n",
      "p_c=array([ 0., -3.,  0.])\n",
      "dv=array([ 0., -1.,  0.])\n"
     ]
    }
   ],
   "source": [
    "print(f\"{q=}\")\n",
    "print(f\"{q_dot=}\")\n",
    "\n",
    "c = C(q)\n",
    "j = J(q, q_dot)\n",
    "lambda_ = lamb(q, q_dot)\n",
    "p_c = P_c(q, q_dot)\n",
    "dv = inv(M) @ (F * dt + p_c)\n",
    "\n",
    "print(f\"{c=}\")\n",
    "print(f\"{j=}\")\n",
    "print(f\"{lambda_=}\")\n",
    "print(f\"{p_c=}\")\n",
    "print(f\"{dv=}\")"
   ]
  },
  {
   "cell_type": "code",
   "execution_count": 85,
   "id": "f18c5ebc3c827229",
   "metadata": {
    "ExecuteTime": {
     "end_time": "2024-07-04T09:00:09.225605Z",
     "start_time": "2024-07-04T09:00:09.203034Z"
    }
   },
   "outputs": [
    {
     "name": "stdout",
     "output_type": "stream",
     "text": [
      "i=0, q=array([ 0.        , -4.        ,  1.04719755]), q_dot=array([0.        , 1.        , 1.57079633])\n",
      "i=1, q=array([ 0.        , -4.        ,  1.20427718]), q_dot=array([0.        , 0.        , 1.57079633])\n",
      "i=2, q=array([nan, nan, nan]), q_dot=array([nan, nan, nan])\n",
      "i=3, q=array([nan, nan, nan]), q_dot=array([nan, nan, nan])\n",
      "i=4, q=array([nan, nan, nan]), q_dot=array([nan, nan, nan])\n",
      "i=5, q=array([nan, nan, nan]), q_dot=array([nan, nan, nan])\n",
      "i=6, q=array([nan, nan, nan]), q_dot=array([nan, nan, nan])\n",
      "i=7, q=array([nan, nan, nan]), q_dot=array([nan, nan, nan])\n",
      "i=8, q=array([nan, nan, nan]), q_dot=array([nan, nan, nan])\n",
      "i=9, q=array([nan, nan, nan]), q_dot=array([nan, nan, nan])\n",
      "i=10, q=array([nan, nan, nan]), q_dot=array([nan, nan, nan])\n",
      "i=11, q=array([nan, nan, nan]), q_dot=array([nan, nan, nan])\n",
      "i=12, q=array([nan, nan, nan]), q_dot=array([nan, nan, nan])\n",
      "i=13, q=array([nan, nan, nan]), q_dot=array([nan, nan, nan])\n",
      "i=14, q=array([nan, nan, nan]), q_dot=array([nan, nan, nan])\n",
      "i=15, q=array([nan, nan, nan]), q_dot=array([nan, nan, nan])\n",
      "i=16, q=array([nan, nan, nan]), q_dot=array([nan, nan, nan])\n",
      "i=17, q=array([nan, nan, nan]), q_dot=array([nan, nan, nan])\n",
      "i=18, q=array([nan, nan, nan]), q_dot=array([nan, nan, nan])\n",
      "i=19, q=array([nan, nan, nan]), q_dot=array([nan, nan, nan])\n",
      "i=20, q=array([nan, nan, nan]), q_dot=array([nan, nan, nan])\n",
      "i=21, q=array([nan, nan, nan]), q_dot=array([nan, nan, nan])\n",
      "i=22, q=array([nan, nan, nan]), q_dot=array([nan, nan, nan])\n",
      "i=23, q=array([nan, nan, nan]), q_dot=array([nan, nan, nan])\n",
      "i=24, q=array([nan, nan, nan]), q_dot=array([nan, nan, nan])\n",
      "i=25, q=array([nan, nan, nan]), q_dot=array([nan, nan, nan])\n",
      "i=26, q=array([nan, nan, nan]), q_dot=array([nan, nan, nan])\n",
      "i=27, q=array([nan, nan, nan]), q_dot=array([nan, nan, nan])\n",
      "i=28, q=array([nan, nan, nan]), q_dot=array([nan, nan, nan])\n",
      "i=29, q=array([nan, nan, nan]), q_dot=array([nan, nan, nan])\n",
      "i=30, q=array([nan, nan, nan]), q_dot=array([nan, nan, nan])\n",
      "i=31, q=array([nan, nan, nan]), q_dot=array([nan, nan, nan])\n",
      "i=32, q=array([nan, nan, nan]), q_dot=array([nan, nan, nan])\n",
      "i=33, q=array([nan, nan, nan]), q_dot=array([nan, nan, nan])\n",
      "i=34, q=array([nan, nan, nan]), q_dot=array([nan, nan, nan])\n",
      "i=35, q=array([nan, nan, nan]), q_dot=array([nan, nan, nan])\n",
      "i=36, q=array([nan, nan, nan]), q_dot=array([nan, nan, nan])\n",
      "i=37, q=array([nan, nan, nan]), q_dot=array([nan, nan, nan])\n",
      "i=38, q=array([nan, nan, nan]), q_dot=array([nan, nan, nan])\n",
      "i=39, q=array([nan, nan, nan]), q_dot=array([nan, nan, nan])\n",
      "i=40, q=array([nan, nan, nan]), q_dot=array([nan, nan, nan])\n",
      "i=41, q=array([nan, nan, nan]), q_dot=array([nan, nan, nan])\n",
      "i=42, q=array([nan, nan, nan]), q_dot=array([nan, nan, nan])\n",
      "i=43, q=array([nan, nan, nan]), q_dot=array([nan, nan, nan])\n",
      "i=44, q=array([nan, nan, nan]), q_dot=array([nan, nan, nan])\n",
      "i=45, q=array([nan, nan, nan]), q_dot=array([nan, nan, nan])\n",
      "i=46, q=array([nan, nan, nan]), q_dot=array([nan, nan, nan])\n",
      "i=47, q=array([nan, nan, nan]), q_dot=array([nan, nan, nan])\n",
      "i=48, q=array([nan, nan, nan]), q_dot=array([nan, nan, nan])\n",
      "i=49, q=array([nan, nan, nan]), q_dot=array([nan, nan, nan])\n",
      "i=50, q=array([nan, nan, nan]), q_dot=array([nan, nan, nan])\n",
      "i=51, q=array([nan, nan, nan]), q_dot=array([nan, nan, nan])\n",
      "i=52, q=array([nan, nan, nan]), q_dot=array([nan, nan, nan])\n",
      "i=53, q=array([nan, nan, nan]), q_dot=array([nan, nan, nan])\n",
      "i=54, q=array([nan, nan, nan]), q_dot=array([nan, nan, nan])\n",
      "i=55, q=array([nan, nan, nan]), q_dot=array([nan, nan, nan])\n",
      "i=56, q=array([nan, nan, nan]), q_dot=array([nan, nan, nan])\n",
      "i=57, q=array([nan, nan, nan]), q_dot=array([nan, nan, nan])\n",
      "i=58, q=array([nan, nan, nan]), q_dot=array([nan, nan, nan])\n",
      "i=59, q=array([nan, nan, nan]), q_dot=array([nan, nan, nan])\n",
      "i=60, q=array([nan, nan, nan]), q_dot=array([nan, nan, nan])\n",
      "i=61, q=array([nan, nan, nan]), q_dot=array([nan, nan, nan])\n",
      "i=62, q=array([nan, nan, nan]), q_dot=array([nan, nan, nan])\n",
      "i=63, q=array([nan, nan, nan]), q_dot=array([nan, nan, nan])\n",
      "i=64, q=array([nan, nan, nan]), q_dot=array([nan, nan, nan])\n",
      "i=65, q=array([nan, nan, nan]), q_dot=array([nan, nan, nan])\n",
      "i=66, q=array([nan, nan, nan]), q_dot=array([nan, nan, nan])\n",
      "i=67, q=array([nan, nan, nan]), q_dot=array([nan, nan, nan])\n",
      "i=68, q=array([nan, nan, nan]), q_dot=array([nan, nan, nan])\n",
      "i=69, q=array([nan, nan, nan]), q_dot=array([nan, nan, nan])\n",
      "i=70, q=array([nan, nan, nan]), q_dot=array([nan, nan, nan])\n",
      "i=71, q=array([nan, nan, nan]), q_dot=array([nan, nan, nan])\n",
      "i=72, q=array([nan, nan, nan]), q_dot=array([nan, nan, nan])\n",
      "i=73, q=array([nan, nan, nan]), q_dot=array([nan, nan, nan])\n",
      "i=74, q=array([nan, nan, nan]), q_dot=array([nan, nan, nan])\n",
      "i=75, q=array([nan, nan, nan]), q_dot=array([nan, nan, nan])\n",
      "i=76, q=array([nan, nan, nan]), q_dot=array([nan, nan, nan])\n",
      "i=77, q=array([nan, nan, nan]), q_dot=array([nan, nan, nan])\n",
      "i=78, q=array([nan, nan, nan]), q_dot=array([nan, nan, nan])\n",
      "i=79, q=array([nan, nan, nan]), q_dot=array([nan, nan, nan])\n",
      "i=80, q=array([nan, nan, nan]), q_dot=array([nan, nan, nan])\n",
      "i=81, q=array([nan, nan, nan]), q_dot=array([nan, nan, nan])\n",
      "i=82, q=array([nan, nan, nan]), q_dot=array([nan, nan, nan])\n",
      "i=83, q=array([nan, nan, nan]), q_dot=array([nan, nan, nan])\n",
      "i=84, q=array([nan, nan, nan]), q_dot=array([nan, nan, nan])\n",
      "i=85, q=array([nan, nan, nan]), q_dot=array([nan, nan, nan])\n",
      "i=86, q=array([nan, nan, nan]), q_dot=array([nan, nan, nan])\n",
      "i=87, q=array([nan, nan, nan]), q_dot=array([nan, nan, nan])\n",
      "i=88, q=array([nan, nan, nan]), q_dot=array([nan, nan, nan])\n",
      "i=89, q=array([nan, nan, nan]), q_dot=array([nan, nan, nan])\n",
      "i=90, q=array([nan, nan, nan]), q_dot=array([nan, nan, nan])\n",
      "i=91, q=array([nan, nan, nan]), q_dot=array([nan, nan, nan])\n",
      "i=92, q=array([nan, nan, nan]), q_dot=array([nan, nan, nan])\n",
      "i=93, q=array([nan, nan, nan]), q_dot=array([nan, nan, nan])\n",
      "i=94, q=array([nan, nan, nan]), q_dot=array([nan, nan, nan])\n",
      "i=95, q=array([nan, nan, nan]), q_dot=array([nan, nan, nan])\n",
      "i=96, q=array([nan, nan, nan]), q_dot=array([nan, nan, nan])\n",
      "i=97, q=array([nan, nan, nan]), q_dot=array([nan, nan, nan])\n",
      "i=98, q=array([nan, nan, nan]), q_dot=array([nan, nan, nan])\n",
      "i=99, q=array([nan, nan, nan]), q_dot=array([nan, nan, nan])\n"
     ]
    },
    {
     "name": "stderr",
     "output_type": "stream",
     "text": [
      "C:\\Users\\rhseung\\AppData\\Local\\Temp\\ipykernel_5864\\2856721276.py:11: RuntimeWarning: invalid value encountered in scalar divide\n",
      "  return rhs / lhs\n"
     ]
    }
   ],
   "source": [
    "for i in range(100):\n",
    "    print(f\"{i=}, {q=}, {q_dot=}\")\n",
    "    P = P_c(q, q_dot)\n",
    "    q_dot = q_dot + inv(M) @ (F * dt + P)\n",
    "    q = q + q_dot * dt"
   ]
  },
  {
   "cell_type": "code",
   "execution_count": null,
   "id": "5606d3c6d78a05aa",
   "metadata": {
    "ExecuteTime": {
     "end_time": "2024-07-04T09:00:09.255327Z",
     "start_time": "2024-07-04T09:00:09.252567Z"
    }
   },
   "outputs": [],
   "source": []
  }
 ],
 "metadata": {
  "kernelspec": {
   "display_name": "Python 3",
   "language": "python",
   "name": "python3"
  },
  "language_info": {
   "codemirror_mode": {
    "name": "ipython",
    "version": 3
   },
   "file_extension": ".py",
   "mimetype": "text/x-python",
   "name": "python",
   "nbconvert_exporter": "python",
   "pygments_lexer": "ipython3",
   "version": "3.11.6"
  }
 },
 "nbformat": 4,
 "nbformat_minor": 5
}

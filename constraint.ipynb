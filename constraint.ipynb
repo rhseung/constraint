{
 "cells": [
  {
   "cell_type": "code",
   "id": "initial_id",
   "metadata": {
    "collapsed": true,
    "ExecuteTime": {
     "end_time": "2024-07-03T14:33:48.942335Z",
     "start_time": "2024-07-03T14:33:42.592114Z"
    }
   },
   "source": [
    "import numpy as np\n",
    "import matplotlib.pyplot as plt"
   ],
   "outputs": [
    {
     "name": "stderr",
     "output_type": "stream",
     "text": [
      "Matplotlib is building the font cache; this may take a moment.\n"
     ]
    }
   ],
   "execution_count": 1
  },
  {
   "metadata": {
    "ExecuteTime": {
     "end_time": "2024-07-03T14:34:18.496687Z",
     "start_time": "2024-07-03T14:34:18.477870Z"
    }
   },
   "cell_type": "code",
   "source": [
    "p1 = np.array([3, 4])\n",
    "theta1 = np.pi / 3\n",
    "q1 = np.array([*p1, theta1])\n",
    "\n",
    "p2 = np.array([5, 6])\n",
    "theta2 = np.pi / 4\n",
    "q2 = np.array([*p2, theta2])\n",
    "\n",
    "p3 = np.array([7, 8])\n",
    "theta3 = np.pi / 6\n",
    "q3 = np.array([*p3, theta3])\n",
    "\n",
    "q = np.array([*q1, *q2, *q3])\n",
    "\n",
    "print(q.shape)\n",
    "q"
   ],
   "id": "f6f059591755156c",
   "outputs": [
    {
     "name": "stdout",
     "output_type": "stream",
     "text": [
      "(9,)\n"
     ]
    },
    {
     "data": {
      "text/plain": [
       "array([3.        , 4.        , 1.04719755, 5.        , 6.        ,\n",
       "       0.78539816, 7.        , 8.        , 0.52359878])"
      ]
     },
     "execution_count": 6,
     "metadata": {},
     "output_type": "execute_result"
    }
   ],
   "execution_count": 6
  },
  {
   "metadata": {
    "ExecuteTime": {
     "end_time": "2024-07-03T14:34:22.773892Z",
     "start_time": "2024-07-03T14:34:22.760152Z"
    }
   },
   "cell_type": "code",
   "source": [
    "m1 = 5\n",
    "I1 = 2\n",
    "M1 = np.diag([m1, m1, I1])\n",
    "\n",
    "m2 = 3\n",
    "I2 = 1\n",
    "M2 = np.diag([m2, m2, I2])\n",
    "\n",
    "m3 = 2\n",
    "I3 = 1\n",
    "M3 = np.diag([m3, m3, I3])\n",
    "\n",
    "M = np.zeros((9, 9))\n",
    "M[:3, :3] = M1\n",
    "M[3:6, 3:6] = M2\n",
    "M[6:, 6:] = M3\n",
    "\n",
    "print(M.shape)\n",
    "M"
   ],
   "id": "f9e18bae5228a63e",
   "outputs": [
    {
     "name": "stdout",
     "output_type": "stream",
     "text": [
      "(9, 9)\n"
     ]
    },
    {
     "data": {
      "text/plain": [
       "array([[5., 0., 0., 0., 0., 0., 0., 0., 0.],\n",
       "       [0., 5., 0., 0., 0., 0., 0., 0., 0.],\n",
       "       [0., 0., 2., 0., 0., 0., 0., 0., 0.],\n",
       "       [0., 0., 0., 3., 0., 0., 0., 0., 0.],\n",
       "       [0., 0., 0., 0., 3., 0., 0., 0., 0.],\n",
       "       [0., 0., 0., 0., 0., 1., 0., 0., 0.],\n",
       "       [0., 0., 0., 0., 0., 0., 2., 0., 0.],\n",
       "       [0., 0., 0., 0., 0., 0., 0., 2., 0.],\n",
       "       [0., 0., 0., 0., 0., 0., 0., 0., 1.]])"
      ]
     },
     "execution_count": 7,
     "metadata": {},
     "output_type": "execute_result"
    }
   ],
   "execution_count": 7
  },
  {
   "metadata": {},
   "cell_type": "code",
   "outputs": [],
   "execution_count": null,
   "source": "",
   "id": "9fcb582d9ba94c9b"
  }
 ],
 "metadata": {
  "kernelspec": {
   "display_name": "Python 3",
   "language": "python",
   "name": "python3"
  },
  "language_info": {
   "codemirror_mode": {
    "name": "ipython",
    "version": 2
   },
   "file_extension": ".py",
   "mimetype": "text/x-python",
   "name": "python",
   "nbconvert_exporter": "python",
   "pygments_lexer": "ipython2",
   "version": "2.7.6"
  }
 },
 "nbformat": 4,
 "nbformat_minor": 5
}
